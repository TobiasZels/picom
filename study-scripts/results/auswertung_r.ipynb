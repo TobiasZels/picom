{
 "cells": [
  {
   "attachments": {},
   "cell_type": "markdown",
   "metadata": {},
   "source": [
    "# Auswertung von"
   ]
  },
  {
   "attachments": {},
   "cell_type": "markdown",
   "metadata": {},
   "source": [
    "## Fragestelllung\n",
    "\n",
    "## Imports"
   ]
  },
  {
   "cell_type": "markdown",
   "metadata": {},
   "source": []
  },
  {
   "cell_type": "code",
   "execution_count": 40,
   "metadata": {
    "vscode": {
     "languageId": "r"
    }
   },
   "outputs": [],
   "source": [
    "library(plyr)\n",
    "library(tidyverse)\n",
    "library (ggbeeswarm)\n",
    "library(knitr)\n",
    "library(rstatix)\n",
    "library(effectsize)\n",
    "library(psychReport)\n",
    "library(MetBrewer)\n",
    "library(gt)\n",
    "library(webshot2)\n",
    "library(corrr)\n",
    "library(ARTool)\n"
   ]
  },
  {
   "cell_type": "code",
   "execution_count": 41,
   "metadata": {
    "vscode": {
     "languageId": "r"
    }
   },
   "outputs": [
    {
     "data": {
      "text/html": [
       "<table class=\"dataframe\">\n",
       "<caption>A data.frame: 6 × 6</caption>\n",
       "<thead>\n",
       "\t<tr><th></th><th scope=col>X</th><th scope=col>id</th><th scope=col>framerate</th><th scope=col>marker</th><th scope=col>scene</th><th scope=col>rating</th></tr>\n",
       "\t<tr><th></th><th scope=col>&lt;int&gt;</th><th scope=col>&lt;int&gt;</th><th scope=col>&lt;int&gt;</th><th scope=col>&lt;chr&gt;</th><th scope=col>&lt;chr&gt;</th><th scope=col>&lt;dbl&gt;</th></tr>\n",
       "</thead>\n",
       "<tbody>\n",
       "\t<tr><th scope=row>1</th><td>0</td><td>1</td><td>120</td><td>aruco</td><td>image </td><td>5</td></tr>\n",
       "\t<tr><th scope=row>2</th><td>1</td><td>1</td><td>120</td><td>aruco</td><td>text_d</td><td>3</td></tr>\n",
       "\t<tr><th scope=row>3</th><td>2</td><td>1</td><td>120</td><td>aruco</td><td>text_w</td><td>5</td></tr>\n",
       "\t<tr><th scope=row>4</th><td>3</td><td>1</td><td>120</td><td>point</td><td>image </td><td>5</td></tr>\n",
       "\t<tr><th scope=row>5</th><td>4</td><td>1</td><td>120</td><td>point</td><td>text_d</td><td>3</td></tr>\n",
       "\t<tr><th scope=row>6</th><td>5</td><td>1</td><td>120</td><td>point</td><td>text_w</td><td>5</td></tr>\n",
       "</tbody>\n",
       "</table>\n"
      ],
      "text/latex": [
       "A data.frame: 6 × 6\n",
       "\\begin{tabular}{r|llllll}\n",
       "  & X & id & framerate & marker & scene & rating\\\\\n",
       "  & <int> & <int> & <int> & <chr> & <chr> & <dbl>\\\\\n",
       "\\hline\n",
       "\t1 & 0 & 1 & 120 & aruco & image  & 5\\\\\n",
       "\t2 & 1 & 1 & 120 & aruco & text\\_d & 3\\\\\n",
       "\t3 & 2 & 1 & 120 & aruco & text\\_w & 5\\\\\n",
       "\t4 & 3 & 1 & 120 & point & image  & 5\\\\\n",
       "\t5 & 4 & 1 & 120 & point & text\\_d & 3\\\\\n",
       "\t6 & 5 & 1 & 120 & point & text\\_w & 5\\\\\n",
       "\\end{tabular}\n"
      ],
      "text/markdown": [
       "\n",
       "A data.frame: 6 × 6\n",
       "\n",
       "| <!--/--> | X &lt;int&gt; | id &lt;int&gt; | framerate &lt;int&gt; | marker &lt;chr&gt; | scene &lt;chr&gt; | rating &lt;dbl&gt; |\n",
       "|---|---|---|---|---|---|---|\n",
       "| 1 | 0 | 1 | 120 | aruco | image  | 5 |\n",
       "| 2 | 1 | 1 | 120 | aruco | text_d | 3 |\n",
       "| 3 | 2 | 1 | 120 | aruco | text_w | 5 |\n",
       "| 4 | 3 | 1 | 120 | point | image  | 5 |\n",
       "| 5 | 4 | 1 | 120 | point | text_d | 3 |\n",
       "| 6 | 5 | 1 | 120 | point | text_w | 5 |\n",
       "\n"
      ],
      "text/plain": [
       "  X id framerate marker scene  rating\n",
       "1 0 1  120       aruco  image  5     \n",
       "2 1 1  120       aruco  text_d 3     \n",
       "3 2 1  120       aruco  text_w 5     \n",
       "4 3 1  120       point  image  5     \n",
       "5 4 1  120       point  text_d 3     \n",
       "6 5 1  120       point  text_w 5     "
      ]
     },
     "metadata": {},
     "output_type": "display_data"
    }
   ],
   "source": [
    "data_raw <- read.csv(\"data/out.csv\")\n",
    "\n",
    "data_pp <- data_raw\n",
    "\n",
    "data_pp <- data_pp %>%\n",
    "  mutate(\n",
    "    id = factor(id),\n",
    "    framerate = factor(framerate),\n",
    "    marker = factor(marker),\n",
    "    scene = factor(scene),\n",
    "  )\n",
    "\n",
    "head(data_raw)"
   ]
  },
  {
   "cell_type": "code",
   "execution_count": 42,
   "metadata": {
    "vscode": {
     "languageId": "r"
    }
   },
   "outputs": [],
   "source": [
    "m <- art(rating ~ framerate*marker*scene + Error(id), data=data_pp)\n",
    "\n"
   ]
  },
  {
   "cell_type": "code",
   "execution_count": 43,
   "metadata": {
    "vscode": {
     "languageId": "r"
    }
   },
   "outputs": [
    {
     "data": {
      "text/plain": [
       "Aligned Rank Transform of Factorial Model\n",
       "\n",
       "Call:\n",
       "art(formula = rating ~ framerate * marker * scene + Error(id), \n",
       "    data = data_pp)\n",
       "\n",
       "Column sums of aligned responses (should all be ~0):\n",
       "             framerate                 marker                  scene \n",
       "                     0                      0                      0 \n",
       "      framerate:marker        framerate:scene           marker:scene \n",
       "                     0                      0                      0 \n",
       "framerate:marker:scene \n",
       "                     0 \n",
       "\n",
       "F values of ANOVAs on aligned responses not of interest (should all be ~0):\n",
       "   Min. 1st Qu.  Median    Mean 3rd Qu.    Max. \n",
       "      0       0       0       0       0       0 "
      ]
     },
     "metadata": {},
     "output_type": "display_data"
    }
   ],
   "source": [
    "summary(m)\n"
   ]
  },
  {
   "cell_type": "code",
   "execution_count": 44,
   "metadata": {
    "vscode": {
     "languageId": "r"
    }
   },
   "outputs": [
    {
     "data": {
      "text/html": [
       "<table class=\"dataframe\">\n",
       "<caption>A anova.art: 7 × 9</caption>\n",
       "<thead>\n",
       "\t<tr><th></th><th scope=col>Term</th><th scope=col>Error</th><th scope=col>Df</th><th scope=col>Df.res</th><th scope=col>Sum Sq</th><th scope=col>Sum Sq.res</th><th scope=col>Mean Sq</th><th scope=col>F value</th><th scope=col>Pr(&gt;F)</th></tr>\n",
       "\t<tr><th></th><th scope=col>&lt;chr&gt;</th><th scope=col>&lt;chr&gt;</th><th scope=col>&lt;dbl&gt;</th><th scope=col>&lt;dbl&gt;</th><th scope=col>&lt;dbl&gt;</th><th scope=col>&lt;dbl&gt;</th><th scope=col>&lt;dbl&gt;</th><th scope=col>&lt;dbl&gt;</th><th scope=col>&lt;dbl&gt;</th></tr>\n",
       "</thead>\n",
       "<tbody>\n",
       "\t<tr><th scope=row>1</th><td>framerate             </td><td>Within</td><td> 3</td><td>350</td><td>1356408.84</td><td>2474704</td><td> 452136.28</td><td> 63.946100</td><td> 5.449792e-33</td></tr>\n",
       "\t<tr><th scope=row>2</th><td>marker                </td><td>Within</td><td> 2</td><td>350</td><td> 232054.74</td><td>3240308</td><td> 116027.37</td><td> 12.532631</td><td> 5.536183e-06</td></tr>\n",
       "\t<tr><th scope=row>3</th><td>scene                 </td><td>Within</td><td> 2</td><td>350</td><td>3650538.09</td><td>1041746</td><td>1825269.05</td><td>613.243486</td><td>4.131333e-115</td></tr>\n",
       "\t<tr><th scope=row>4</th><td>framerate:marker      </td><td>Within</td><td> 6</td><td>350</td><td>  65622.54</td><td>3292469</td><td>  10937.09</td><td>  1.162648</td><td> 3.258132e-01</td></tr>\n",
       "\t<tr><th scope=row>5</th><td>framerate:scene       </td><td>Within</td><td> 6</td><td>350</td><td> 952446.94</td><td>2805155</td><td> 158741.16</td><td> 19.806182</td><td> 6.279304e-20</td></tr>\n",
       "\t<tr><th scope=row>6</th><td>marker:scene          </td><td>Within</td><td> 4</td><td>350</td><td> 232650.48</td><td>3262594</td><td>  58162.62</td><td>  6.239489</td><td> 7.361922e-05</td></tr>\n",
       "\t<tr><th scope=row>7</th><td>framerate:marker:scene</td><td>Within</td><td>12</td><td>350</td><td> 133272.61</td><td>3303124</td><td>  11106.05</td><td>  1.176801</td><td> 2.981212e-01</td></tr>\n",
       "</tbody>\n",
       "</table>\n"
      ],
      "text/latex": [
       "A anova.art: 7 × 9\n",
       "\\begin{tabular}{r|lllllllll}\n",
       "  & Term & Error & Df & Df.res & Sum Sq & Sum Sq.res & Mean Sq & F value & Pr(>F)\\\\\n",
       "  & <chr> & <chr> & <dbl> & <dbl> & <dbl> & <dbl> & <dbl> & <dbl> & <dbl>\\\\\n",
       "\\hline\n",
       "\t1 & framerate              & Within &  3 & 350 & 1356408.84 & 2474704 &  452136.28 &  63.946100 &  5.449792e-33\\\\\n",
       "\t2 & marker                 & Within &  2 & 350 &  232054.74 & 3240308 &  116027.37 &  12.532631 &  5.536183e-06\\\\\n",
       "\t3 & scene                  & Within &  2 & 350 & 3650538.09 & 1041746 & 1825269.05 & 613.243486 & 4.131333e-115\\\\\n",
       "\t4 & framerate:marker       & Within &  6 & 350 &   65622.54 & 3292469 &   10937.09 &   1.162648 &  3.258132e-01\\\\\n",
       "\t5 & framerate:scene        & Within &  6 & 350 &  952446.94 & 2805155 &  158741.16 &  19.806182 &  6.279304e-20\\\\\n",
       "\t6 & marker:scene           & Within &  4 & 350 &  232650.48 & 3262594 &   58162.62 &   6.239489 &  7.361922e-05\\\\\n",
       "\t7 & framerate:marker:scene & Within & 12 & 350 &  133272.61 & 3303124 &   11106.05 &   1.176801 &  2.981212e-01\\\\\n",
       "\\end{tabular}\n"
      ],
      "text/markdown": [
       "\n",
       "A anova.art: 7 × 9\n",
       "\n",
       "| <!--/--> | Term &lt;chr&gt; | Error &lt;chr&gt; | Df &lt;dbl&gt; | Df.res &lt;dbl&gt; | Sum Sq &lt;dbl&gt; | Sum Sq.res &lt;dbl&gt; | Mean Sq &lt;dbl&gt; | F value &lt;dbl&gt; | Pr(&gt;F) &lt;dbl&gt; |\n",
       "|---|---|---|---|---|---|---|---|---|---|\n",
       "| 1 | framerate              | Within |  3 | 350 | 1356408.84 | 2474704 |  452136.28 |  63.946100 |  5.449792e-33 |\n",
       "| 2 | marker                 | Within |  2 | 350 |  232054.74 | 3240308 |  116027.37 |  12.532631 |  5.536183e-06 |\n",
       "| 3 | scene                  | Within |  2 | 350 | 3650538.09 | 1041746 | 1825269.05 | 613.243486 | 4.131333e-115 |\n",
       "| 4 | framerate:marker       | Within |  6 | 350 |   65622.54 | 3292469 |   10937.09 |   1.162648 |  3.258132e-01 |\n",
       "| 5 | framerate:scene        | Within |  6 | 350 |  952446.94 | 2805155 |  158741.16 |  19.806182 |  6.279304e-20 |\n",
       "| 6 | marker:scene           | Within |  4 | 350 |  232650.48 | 3262594 |   58162.62 |   6.239489 |  7.361922e-05 |\n",
       "| 7 | framerate:marker:scene | Within | 12 | 350 |  133272.61 | 3303124 |   11106.05 |   1.176801 |  2.981212e-01 |\n",
       "\n"
      ],
      "text/plain": [
       "  Term                   Error  Df Df.res Sum Sq     Sum Sq.res Mean Sq   \n",
       "1 framerate              Within  3 350    1356408.84 2474704     452136.28\n",
       "2 marker                 Within  2 350     232054.74 3240308     116027.37\n",
       "3 scene                  Within  2 350    3650538.09 1041746    1825269.05\n",
       "4 framerate:marker       Within  6 350      65622.54 3292469      10937.09\n",
       "5 framerate:scene        Within  6 350     952446.94 2805155     158741.16\n",
       "6 marker:scene           Within  4 350     232650.48 3262594      58162.62\n",
       "7 framerate:marker:scene Within 12 350     133272.61 3303124      11106.05\n",
       "  F value    Pr(>F)       \n",
       "1  63.946100  5.449792e-33\n",
       "2  12.532631  5.536183e-06\n",
       "3 613.243486 4.131333e-115\n",
       "4   1.162648  3.258132e-01\n",
       "5  19.806182  6.279304e-20\n",
       "6   6.239489  7.361922e-05\n",
       "7   1.176801  2.981212e-01"
      ]
     },
     "metadata": {},
     "output_type": "display_data"
    }
   ],
   "source": [
    "anova(m)\n"
   ]
  }
 ],
 "metadata": {
  "kernelspec": {
   "display_name": "R",
   "language": "R",
   "name": "ir"
  },
  "language_info": {
   "codemirror_mode": "r",
   "file_extension": ".r",
   "mimetype": "text/x-r-source",
   "name": "R",
   "pygments_lexer": "r",
   "version": "4.2.2"
  },
  "orig_nbformat": 4
 },
 "nbformat": 4,
 "nbformat_minor": 2
}
